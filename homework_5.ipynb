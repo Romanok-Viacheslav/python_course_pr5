{
  "nbformat": 4,
  "nbformat_minor": 0,
  "metadata": {
    "colab": {
      "provenance": []
    },
    "kernelspec": {
      "name": "python3",
      "display_name": "Python 3"
    },
    "language_info": {
      "name": "python"
    }
  },
  "cells": [
    {
      "cell_type": "markdown",
      "source": [
        "Ласкаво просимо до нашого сьогоднішнього уроку про списки! Списки - це потужний інструмент у програмуванні, який дозволяє нам зберігати та організовувати дані. Вони є незамінним елементом багатьох програм і допомагають нам ефективно опрацьовувати і використовувати велику кількість інформації. Сьогодні ми детально розглянемо, як працювати зі списками, створювати, змінювати, доступатися до елементів та виконувати інші корисні операції. Готові розкрити всю потужність списків? Давайте розпочнемо цей захоплюючий урок разом!"
      ],
      "metadata": {
        "id": "KPbujZRoP-AL"
      }
    },
    {
      "cell_type": "markdown",
      "source": [
        "**У стовпчик 1**\n",
        "\n",
        "На вхід до програми подається один рядок. Напишіть програму, яка виводить елементи рядка з індексами 0, 2, 4, ... у стовпчик.\n",
        "\n",
        "**Формат вхідних даних**\n",
        "\n",
        "На вхід до програми подається один рядок.\n",
        "\n",
        "**Формат вихідних даних**\n",
        "\n",
        "Програма має вивести елементи рядка з індексами 0, 2, 4, ..., кожне на окремому рядку.\n",
        "\n",
        "**Sample Input:**\n",
        "\n",
        "abcdefghijklmnop\n",
        "\n",
        "**Sample Output:**\n",
        "\n",
        "a\n",
        "\n",
        "c\n",
        "\n",
        "e\n",
        "\n",
        "g\n",
        "\n",
        "i\n",
        "\n",
        "k\n",
        "\n",
        "m\n",
        "\n",
        "o"
      ],
      "metadata": {
        "id": "j_yuHj29WlXP"
      }
    },
    {
      "cell_type": "code",
      "source": [
        "input_string = input(\"Введіть рядок: \")\n",
        "\n",
        "print(\"Кожен другий символ з введеного рядка:\")\n",
        "for character in input_string[::2]:\n",
        "    print(character)"
      ],
      "metadata": {
        "id": "W1Ly7EVrXY8v",
        "colab": {
          "base_uri": "https://localhost:8080/"
        },
        "outputId": "21759d91-9da9-4660-bafc-d84ff6d243e5"
      },
      "execution_count": 21,
      "outputs": [
        {
          "output_type": "stream",
          "name": "stdout",
          "text": [
            "Введіть рядок: abcdefghijklmnop\n",
            "Кожен другий символ з введеного рядка:\n",
            "a\n",
            "c\n",
            "e\n",
            "g\n",
            "i\n",
            "k\n",
            "m\n",
            "o\n"
          ]
        }
      ]
    },
    {
      "cell_type": "markdown",
      "source": [
        "**У стовпчик 2**\n",
        "\n",
        "На вхід до програми подається один рядок. Напишіть програму, яка виводить у стовпчик елементи рядка у зворотному порядку.\n",
        "\n",
        "**Формат вхідних даних**\n",
        "\n",
        "На вхід до програми подається один рядок.\n",
        "\n",
        "**Формат вихідних даних**\n",
        "\n",
        "Програма має вивести в стовпчик елементи рядка у зворотному порядку.\n",
        "\n",
        "**Примітка**. Використовуйте оператор continue.\n",
        "\n",
        "**Sample Input:**\n",
        "\n",
        "abc\n",
        "\n",
        "**Sample Output:**\n",
        "\n",
        "c\n",
        "\n",
        "b\n",
        "\n",
        "a\n"
      ],
      "metadata": {
        "id": "dLpOnxIK450q"
      }
    },
    {
      "cell_type": "code",
      "source": [
        "input_string = input(\"Введіть рядок: \")\n",
        "\n",
        "print(\"Елементи рядка у зворотньому порядку:\")\n",
        "for character in reversed(input_string):\n",
        "    if character == '\\n':\n",
        "        continue\n",
        "    print(character)"
      ],
      "metadata": {
        "id": "5-nH8ec2YAP8",
        "colab": {
          "base_uri": "https://localhost:8080/"
        },
        "outputId": "db0a08b4-bf66-497f-c1ad-649827327554"
      },
      "execution_count": 46,
      "outputs": [
        {
          "output_type": "stream",
          "name": "stdout",
          "text": [
            "Введіть рядок: abc\n",
            "Елементи рядка у зворотньому порядку:\n",
            "c\n",
            "b\n",
            "a\n"
          ]
        }
      ]
    },
    {
      "cell_type": "markdown",
      "source": [
        "**Цифра**\n",
        "\n",
        "На вхід до програми подається один рядок. Напишіть програму, яка виводить повідомлення «Цифра» (без лапок), якщо рядок містить цифру. В іншому випадку вивести повідомлення \"Цифр немає\" (без лапок).\n",
        "\n",
        "**Формат вхідних даних**\n",
        "\n",
        "На вхід до програми подається один рядок.\n",
        "\n",
        "**Формат вихідних даних**\n",
        "\n",
        "Програма має вивести текст відповідно до умови завдання.\n",
        "\n",
        "**Sample Input 1:**\n",
        "\n",
        "Hi Python\n",
        "\n",
        "**Sample Output 1:**\n",
        "\n",
        "Цифр немає\n",
        "\n",
        "**Sample Input 2:**\n",
        "\n",
        "Hi 17 Python\n",
        "\n",
        "**Sample Output 2:**\n",
        "\n",
        "Цифра"
      ],
      "metadata": {
        "id": "l1vswNQTXmet"
      }
    },
    {
      "cell_type": "code",
      "execution_count": 24,
      "metadata": {
        "id": "u9kcIDw0NlHe",
        "colab": {
          "base_uri": "https://localhost:8080/"
        },
        "outputId": "a4c3d9a6-0369-4690-c99a-54fa799f295e"
      },
      "outputs": [
        {
          "output_type": "stream",
          "name": "stdout",
          "text": [
            "Введіть рядок: Hi 17 Python\n",
            "В рядку є цифри\n"
          ]
        }
      ],
      "source": [
        "input_string = input(\"Введіть рядок: \")\n",
        "\n",
        "if any(character.isdigit() for character in input_string):\n",
        "    print(\"В рядку є цифри\")\n",
        "else:\n",
        "    print(\"В рядку немає цифр\")"
      ]
    },
    {
      "cell_type": "markdown",
      "source": [
        "**Паліндром**\n",
        "\n",
        "На вхід до програми подається одне слово, записане в нижньому регістрі. Напишіть програму, яка визначає, чи є вона паліндромом.\n",
        "\n",
        "**Формат вхідних даних**\n",
        "\n",
        "На вхід до програми подається одне слово в нижньому регістрі.\n",
        "\n",
        "**Формат вихідних даних**\n",
        "\n",
        "Програма повинна вивести \"YES\", якщо слово є паліндромом і \"NO\" в іншому випадку.\n",
        "\n",
        "**Примітка:** Паліндром читається однаково в обох напрямках, наприклад, слово «зараз».\n",
        "\n",
        "**Sample Input 1:**\n",
        "\n",
        "зараз\n",
        "\n",
        "**Sample Output 1:**\n",
        "\n",
        "YES\n",
        "\n",
        "**Sample Input 2:**\n",
        "\n",
        "котик\n",
        "\n",
        "**Sample Output 2:**\n",
        "\n",
        "NO\n",
        "\n",
        "**Sample Input 3:**\n",
        "\n",
        "корок\n",
        "\n",
        "**Sample Output 3:**\n",
        "\n",
        "YES"
      ],
      "metadata": {
        "id": "pfGyWUcNbJeg"
      }
    },
    {
      "cell_type": "code",
      "source": [
        "word = input(\"Введіть слово в нижньому регістрі: \")\n",
        "\n",
        "if word == word[::-1]:\n",
        "    print(\"YES\")\n",
        "else:\n",
        "    print(\"NO\")"
      ],
      "metadata": {
        "id": "NG045J4JcJlr",
        "colab": {
          "base_uri": "https://localhost:8080/"
        },
        "outputId": "bb82fbe6-f43d-4729-b4a1-bc36d49b330c"
      },
      "execution_count": 31,
      "outputs": [
        {
          "output_type": "stream",
          "name": "stdout",
          "text": [
            "Введіть слово в нижньому регістрі: корок\n",
            "YES\n"
          ]
        }
      ]
    },
    {
      "cell_type": "markdown",
      "source": [
        "**Скільки раз?**\n",
        "\n",
        "На вхід до програми подається один рядок. Напишіть програму, яка визначає скільки разів у рядку зустрічаються символи\n",
        "\" + \" та \" * \".\n",
        "\n",
        "**Формат вхідних даних**\n",
        "\n",
        "На вхід до програми подається один рядок.\n",
        "\n",
        "**Формат вихідних даних**\n",
        "\n",
        "Програма повинна вивести скільки разів зустрічаються символи \" + \" та \" * \" у рядку.\n",
        "\n",
        "**Sample Input:**\n",
        "\n",
        "bcd+a++++**31415\n",
        "\n",
        "**Sample Output:**\n",
        "\n",
        "Символ \" + \" зустрічається 5 разів\n",
        "\n",
        "Символ \" * \" зустрічається 2 рази\n",
        "\n"
      ],
      "metadata": {
        "id": "fx2fCMc9KkUm"
      }
    },
    {
      "cell_type": "code",
      "source": [
        "input_string = input(\"Введіть рядок: \")\n",
        "\n",
        "plus_count = input_string.count('+')\n",
        "asterisk_count = input_string.count('*')\n",
        "\n",
        "print(f'У рядку зустрічається символ \"+\" {plus_count} разів.')\n",
        "print(f'У рядку зустрічається символ \"*\" {asterisk_count} разів.')"
      ],
      "metadata": {
        "id": "avh4rw-58a-P",
        "colab": {
          "base_uri": "https://localhost:8080/"
        },
        "outputId": "c834e3ab-0837-45c6-ae52-dfc3a2d228b7"
      },
      "execution_count": 27,
      "outputs": [
        {
          "output_type": "stream",
          "name": "stdout",
          "text": [
            "Введіть рядок: bcd+a++++**31415\n",
            "У рядку зустрічається символ \"+\" 5 разів.\n",
            "У рядку зустрічається символ \"*\" 2 разів.\n"
          ]
        }
      ]
    },
    {
      "cell_type": "markdown",
      "source": [
        "**Середнє арифметичне**\n",
        "\n",
        "Доповніть наведений код так, щоб він вивів середнє арифметичне елементів списку evens."
      ],
      "metadata": {
        "id": "qPp70pgP2Ket"
      }
    },
    {
      "cell_type": "code",
      "source": [
        "evens = [2, 4, 6, 8, 10, 12, 14, 16, 18, 20]\n",
        "\n",
        "average = sum(evens) / len(evens)\n",
        "print(f\"Середнє арифметичне чисел у списку: {average}\")"
      ],
      "metadata": {
        "id": "_Iyq6-pj4RQq",
        "colab": {
          "base_uri": "https://localhost:8080/"
        },
        "outputId": "f7bd0720-89a8-40f0-aa9e-366723cecff8"
      },
      "execution_count": 30,
      "outputs": [
        {
          "output_type": "stream",
          "name": "stdout",
          "text": [
            "Середнє арифметичне чисел у списку: 11.0\n"
          ]
        }
      ]
    },
    {
      "cell_type": "markdown",
      "source": [
        "**Назву не придумала**\n",
        "\n",
        "Доповніть наведений код, використовуючи оператори конкатенації \" + \" та множення списку на число \" * \", щоб він вивів список:\n",
        "\n",
        " [1, 2, 3, 1, 2, 3, 6, 6, 6, 6, 6, 6, 6, 6, 6, 7, 8, 9, 10, 11, 12, 13]."
      ],
      "metadata": {
        "id": "_0nM8y1m4eJV"
      }
    },
    {
      "cell_type": "code",
      "source": [
        "numbers1 = [1, 2, 3]\n",
        "numbers2 = [6]\n",
        "numbers3 = [7, 8, 9, 10, 11, 12, 13]\n",
        "\n",
        "new_list = numbers1 + numbers1 + numbers2 * 9 + numbers3\n",
        "print(\"Отриманий список:\", new_list)"
      ],
      "metadata": {
        "id": "cN0jpJmF5dTc",
        "colab": {
          "base_uri": "https://localhost:8080/"
        },
        "outputId": "e75111d3-addd-4cab-8ee1-582aa1bf5915"
      },
      "execution_count": 33,
      "outputs": [
        {
          "output_type": "stream",
          "name": "stdout",
          "text": [
            "Отриманий список: [1, 2, 3, 1, 2, 3, 6, 6, 6, 6, 6, 6, 6, 6, 6, 7, 8, 9, 10, 11, 12, 13]\n"
          ]
        }
      ]
    },
    {
      "cell_type": "markdown",
      "source": [
        "**Upper**\n",
        "\n",
        "Вставте пропущений фрагмент коду, так щоб у результаті виконання програми було виведено рядок s великими літерами (у верхньому регістрі)."
      ],
      "metadata": {
        "id": "VEkyBsIX5xA1"
      }
    },
    {
      "cell_type": "code",
      "source": [
        "s = 'Python rocks!'\n",
        "s_upper = s.upper()\n",
        "print(\"Рядок у верхньому регістрі:\", s_upper)"
      ],
      "metadata": {
        "id": "jgWX-7QC6Xj8",
        "colab": {
          "base_uri": "https://localhost:8080/"
        },
        "outputId": "20cfb12b-9f73-4a04-f19c-a71ff14630c8"
      },
      "execution_count": 35,
      "outputs": [
        {
          "output_type": "stream",
          "name": "stdout",
          "text": [
            "Рядок у верхньому регістрі: PYTHON ROCKS!\n"
          ]
        }
      ]
    },
    {
      "cell_type": "markdown",
      "source": [
        "**Заміни мене повністю**\n",
        "\n",
        "На вхід до програми подається рядок тексту. Напишіть програму, яка замінює всі входження цифри 1 на слово \"one\".\n",
        "\n",
        "**Формат вхiдних даних**\n",
        "\n",
        "На вхід до програми подається рядок тексту.\n",
        "\n",
        "**Формат вихiдних даних**\n",
        "\n",
        "Програма має вивести текст відповідно до умови завдання.\n",
        "\n",
        "**Sample Input:**\n",
        "\n",
        "1231\n",
        "\n",
        "**Sample Onput:**\n",
        "\n",
        "one23one"
      ],
      "metadata": {
        "id": "UcqPlC646d21"
      }
    },
    {
      "cell_type": "code",
      "source": [
        "text = input(\"Введіть рядок тексту: \")\n",
        "modified_text = text.replace('1', 'one')\n",
        "print(\"Результат заміни цифри 1 на one:\", modified_text)"
      ],
      "metadata": {
        "id": "Pbb9PwQo62r0",
        "colab": {
          "base_uri": "https://localhost:8080/"
        },
        "outputId": "8c025fdf-0db9-49b6-a0f9-a246f7cfbaaf"
      },
      "execution_count": 47,
      "outputs": [
        {
          "output_type": "stream",
          "name": "stdout",
          "text": [
            "Введіть рядок тексту: 1231\n",
            "Результат заміни цифри 1 на one: one23one\n"
          ]
        }
      ]
    },
    {
      "cell_type": "markdown",
      "source": [
        "**Дивні дива**\n",
        "\n",
        "Джим Хоппер за допомогою радіоприймача намагається отримати повідомлення Оді. На приймач йому надходить n різних послідовностей коду Морзе. Декодувавши їх, він отримує послідовності з цифр і рядкового латинського алфавіту, при цьому у всіх повідомленнях Оді міститься число 11, причому щонайменше 3 рази. Допоможіть визначити Джиму кількість повідомлень від Оді.\n",
        "\n",
        "**Формат вхідних даних**\n",
        "\n",
        "У першому рядку подається число n – кількість повідомлень, у наступних рядках n вводяться рядки, що містять латинські малі літери та цифри.\n",
        "\n",
        "**Формат вихідних даних**\n",
        "\n",
        "Програма повинна вивести кількість рядків, у яких міститься число 11 мінімум 3 рази.\n",
        "\n",
        "**Примітка:** Числа 11 необов'язково мають бути розділені іншими символами, слід підрахувати входження послідовності символів \"11\", тобто. наприклад, у рядку \"111\" міститься одна така послідовність, у той час як у \"1111\" їх вже дві.\n",
        "\n",
        "**Sample Input:**\n",
        "\n",
        "3\n",
        "\n",
        "11helpme11jim11\n",
        "\n",
        "avengers141414atta11ck\n",
        "\n",
        "k1lg0re11111l\n",
        "\n",
        "**Sample Output:**\n",
        "\n",
        "1\n"
      ],
      "metadata": {
        "id": "FIEKu1EOR0lm"
      }
    },
    {
      "cell_type": "code",
      "source": [
        "n = int(input(\"Введіть кількість повідомлень: \"))\n",
        "count = 0\n",
        "\n",
        "for i in range(n):\n",
        "    message = input(f\"Введіть повідомлення {i+1}: \")\n",
        "    if message.count('11') >= 3:\n",
        "        count += 1\n",
        "\n",
        "print(f\"Кількість повідомлень з послідовністю '11' щонайменше 3: {count}\")"
      ],
      "metadata": {
        "id": "lY8NJbeGNGyW",
        "colab": {
          "base_uri": "https://localhost:8080/"
        },
        "outputId": "7ab776fa-adb4-4a62-f94d-f8aba344ba6f"
      },
      "execution_count": 45,
      "outputs": [
        {
          "output_type": "stream",
          "name": "stdout",
          "text": [
            "Введіть кількість повідомлень: 3\n",
            "Введіть повідомлення 1: 11helpme11jim11\n",
            "Введіть повідомлення 2: avengers141414atta11ck\n",
            "Введіть повідомлення 3: avengers141414atta11ck\n",
            "Кількість повідомлень з послідовністю '11' щонайменше 3: 1\n"
          ]
        }
      ]
    }
  ]
}